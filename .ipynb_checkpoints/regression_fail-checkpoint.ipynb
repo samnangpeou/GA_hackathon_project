{
 "cells": [
  {
   "cell_type": "markdown",
   "metadata": {},
   "source": [
    "# Hack-a-thon"
   ]
  },
  {
   "cell_type": "code",
   "execution_count": 2,
   "metadata": {},
   "outputs": [],
   "source": [
    "#imports \n",
    "\n",
    "import pandas as pd\n",
    "import numpy as np\n",
    "import seaborn as sns\n",
    "import matplotlib.pyplot as plt\n",
    "import ast"
   ]
  },
  {
   "cell_type": "code",
   "execution_count": null,
   "metadata": {},
   "outputs": [],
   "source": [
    "# read in data\n",
    "test_url = 'https://raw.git.generalassemb.ly/sampeou/hackathon_project/master/data/test.csv?token=AAAICLBPOTMCLJG7NFVIHLTAEH7VA'\n",
    "train_url = 'https://raw.git.generalassemb.ly/sampeou/hackathon_project/master/data/train.csv?token=AAAICLEU5GXYXZZ4VE2I3HDAEH7YE'\n",
    "train = pd.read_csv(train_url)\n",
    "test = pd.read_csv(test_url)"
   ]
  },
  {
   "cell_type": "code",
   "execution_count": 3,
   "metadata": {},
   "outputs": [],
   "source": [
    "pd.set_option('display.max_columns', None)\n",
    "pd.set_option('display.max_rows', None)"
   ]
  },
  {
   "cell_type": "code",
   "execution_count": 4,
   "metadata": {},
   "outputs": [
    {
     "data": {
      "text/html": [
       "<div>\n",
       "<style scoped>\n",
       "    .dataframe tbody tr th:only-of-type {\n",
       "        vertical-align: middle;\n",
       "    }\n",
       "\n",
       "    .dataframe tbody tr th {\n",
       "        vertical-align: top;\n",
       "    }\n",
       "\n",
       "    .dataframe thead th {\n",
       "        text-align: right;\n",
       "    }\n",
       "</style>\n",
       "<table border=\"1\" class=\"dataframe\">\n",
       "  <thead>\n",
       "    <tr style=\"text-align: right;\">\n",
       "      <th></th>\n",
       "      <th>id</th>\n",
       "      <th>belongs_to_collection</th>\n",
       "      <th>budget</th>\n",
       "      <th>genres</th>\n",
       "      <th>homepage</th>\n",
       "      <th>imdb_id</th>\n",
       "      <th>original_language</th>\n",
       "      <th>original_title</th>\n",
       "      <th>overview</th>\n",
       "      <th>popularity</th>\n",
       "      <th>poster_path</th>\n",
       "      <th>production_companies</th>\n",
       "      <th>production_countries</th>\n",
       "      <th>release_date</th>\n",
       "      <th>runtime</th>\n",
       "      <th>spoken_languages</th>\n",
       "      <th>status</th>\n",
       "      <th>tagline</th>\n",
       "      <th>title</th>\n",
       "      <th>Keywords</th>\n",
       "      <th>cast</th>\n",
       "      <th>crew</th>\n",
       "      <th>revenue</th>\n",
       "    </tr>\n",
       "  </thead>\n",
       "  <tbody>\n",
       "    <tr>\n",
       "      <th>0</th>\n",
       "      <td>1</td>\n",
       "      <td>[{'id': 313576, 'name': 'Hot Tub Time Machine ...</td>\n",
       "      <td>14000000</td>\n",
       "      <td>[{'id': 35, 'name': 'Comedy'}]</td>\n",
       "      <td>NaN</td>\n",
       "      <td>tt2637294</td>\n",
       "      <td>en</td>\n",
       "      <td>Hot Tub Time Machine 2</td>\n",
       "      <td>When Lou, who has become the \"father of the In...</td>\n",
       "      <td>6.575393</td>\n",
       "      <td>/tQtWuwvMf0hCc2QR2tkolwl7c3c.jpg</td>\n",
       "      <td>[{'name': 'Paramount Pictures', 'id': 4}, {'na...</td>\n",
       "      <td>[{'iso_3166_1': 'US', 'name': 'United States o...</td>\n",
       "      <td>2/20/15</td>\n",
       "      <td>93.0</td>\n",
       "      <td>[{'iso_639_1': 'en', 'name': 'English'}]</td>\n",
       "      <td>Released</td>\n",
       "      <td>The Laws of Space and Time are About to be Vio...</td>\n",
       "      <td>Hot Tub Time Machine 2</td>\n",
       "      <td>[{'id': 4379, 'name': 'time travel'}, {'id': 9...</td>\n",
       "      <td>[{'cast_id': 4, 'character': 'Lou', 'credit_id...</td>\n",
       "      <td>[{'credit_id': '59ac067c92514107af02c8c8', 'de...</td>\n",
       "      <td>12314651</td>\n",
       "    </tr>\n",
       "    <tr>\n",
       "      <th>1</th>\n",
       "      <td>2</td>\n",
       "      <td>[{'id': 107674, 'name': 'The Princess Diaries ...</td>\n",
       "      <td>40000000</td>\n",
       "      <td>[{'id': 35, 'name': 'Comedy'}, {'id': 18, 'nam...</td>\n",
       "      <td>NaN</td>\n",
       "      <td>tt0368933</td>\n",
       "      <td>en</td>\n",
       "      <td>The Princess Diaries 2: Royal Engagement</td>\n",
       "      <td>Mia Thermopolis is now a college graduate and ...</td>\n",
       "      <td>8.248895</td>\n",
       "      <td>/w9Z7A0GHEhIp7etpj0vyKOeU1Wx.jpg</td>\n",
       "      <td>[{'name': 'Walt Disney Pictures', 'id': 2}]</td>\n",
       "      <td>[{'iso_3166_1': 'US', 'name': 'United States o...</td>\n",
       "      <td>8/6/04</td>\n",
       "      <td>113.0</td>\n",
       "      <td>[{'iso_639_1': 'en', 'name': 'English'}]</td>\n",
       "      <td>Released</td>\n",
       "      <td>It can take a lifetime to find true love; she'...</td>\n",
       "      <td>The Princess Diaries 2: Royal Engagement</td>\n",
       "      <td>[{'id': 2505, 'name': 'coronation'}, {'id': 42...</td>\n",
       "      <td>[{'cast_id': 1, 'character': 'Mia Thermopolis'...</td>\n",
       "      <td>[{'credit_id': '52fe43fe9251416c7502563d', 'de...</td>\n",
       "      <td>95149435</td>\n",
       "    </tr>\n",
       "    <tr>\n",
       "      <th>2</th>\n",
       "      <td>3</td>\n",
       "      <td>NaN</td>\n",
       "      <td>3300000</td>\n",
       "      <td>[{'id': 18, 'name': 'Drama'}]</td>\n",
       "      <td>http://sonyclassics.com/whiplash/</td>\n",
       "      <td>tt2582802</td>\n",
       "      <td>en</td>\n",
       "      <td>Whiplash</td>\n",
       "      <td>Under the direction of a ruthless instructor, ...</td>\n",
       "      <td>64.299990</td>\n",
       "      <td>/lIv1QinFqz4dlp5U4lQ6HaiskOZ.jpg</td>\n",
       "      <td>[{'name': 'Bold Films', 'id': 2266}, {'name': ...</td>\n",
       "      <td>[{'iso_3166_1': 'US', 'name': 'United States o...</td>\n",
       "      <td>10/10/14</td>\n",
       "      <td>105.0</td>\n",
       "      <td>[{'iso_639_1': 'en', 'name': 'English'}]</td>\n",
       "      <td>Released</td>\n",
       "      <td>The road to greatness can take you to the edge.</td>\n",
       "      <td>Whiplash</td>\n",
       "      <td>[{'id': 1416, 'name': 'jazz'}, {'id': 1523, 'n...</td>\n",
       "      <td>[{'cast_id': 5, 'character': 'Andrew Neimann',...</td>\n",
       "      <td>[{'credit_id': '54d5356ec3a3683ba0000039', 'de...</td>\n",
       "      <td>13092000</td>\n",
       "    </tr>\n",
       "    <tr>\n",
       "      <th>3</th>\n",
       "      <td>4</td>\n",
       "      <td>NaN</td>\n",
       "      <td>1200000</td>\n",
       "      <td>[{'id': 53, 'name': 'Thriller'}, {'id': 18, 'n...</td>\n",
       "      <td>http://kahaanithefilm.com/</td>\n",
       "      <td>tt1821480</td>\n",
       "      <td>hi</td>\n",
       "      <td>Kahaani</td>\n",
       "      <td>Vidya Bagchi (Vidya Balan) arrives in Kolkata ...</td>\n",
       "      <td>3.174936</td>\n",
       "      <td>/aTXRaPrWSinhcmCrcfJK17urp3F.jpg</td>\n",
       "      <td>NaN</td>\n",
       "      <td>[{'iso_3166_1': 'IN', 'name': 'India'}]</td>\n",
       "      <td>3/9/12</td>\n",
       "      <td>122.0</td>\n",
       "      <td>[{'iso_639_1': 'en', 'name': 'English'}, {'iso...</td>\n",
       "      <td>Released</td>\n",
       "      <td>NaN</td>\n",
       "      <td>Kahaani</td>\n",
       "      <td>[{'id': 10092, 'name': 'mystery'}, {'id': 1054...</td>\n",
       "      <td>[{'cast_id': 1, 'character': 'Vidya Bagchi', '...</td>\n",
       "      <td>[{'credit_id': '52fe48779251416c9108d6eb', 'de...</td>\n",
       "      <td>16000000</td>\n",
       "    </tr>\n",
       "    <tr>\n",
       "      <th>4</th>\n",
       "      <td>5</td>\n",
       "      <td>NaN</td>\n",
       "      <td>0</td>\n",
       "      <td>[{'id': 28, 'name': 'Action'}, {'id': 53, 'nam...</td>\n",
       "      <td>NaN</td>\n",
       "      <td>tt1380152</td>\n",
       "      <td>ko</td>\n",
       "      <td>마린보이</td>\n",
       "      <td>Marine Boy is the story of a former national s...</td>\n",
       "      <td>1.148070</td>\n",
       "      <td>/m22s7zvkVFDU9ir56PiiqIEWFdT.jpg</td>\n",
       "      <td>NaN</td>\n",
       "      <td>[{'iso_3166_1': 'KR', 'name': 'South Korea'}]</td>\n",
       "      <td>2/5/09</td>\n",
       "      <td>118.0</td>\n",
       "      <td>[{'iso_639_1': 'ko', 'name': '한국어/조선말'}]</td>\n",
       "      <td>Released</td>\n",
       "      <td>NaN</td>\n",
       "      <td>Marine Boy</td>\n",
       "      <td>NaN</td>\n",
       "      <td>[{'cast_id': 3, 'character': 'Chun-soo', 'cred...</td>\n",
       "      <td>[{'credit_id': '52fe464b9251416c75073b43', 'de...</td>\n",
       "      <td>3923970</td>\n",
       "    </tr>\n",
       "  </tbody>\n",
       "</table>\n",
       "</div>"
      ],
      "text/plain": [
       "   id                              belongs_to_collection    budget  \\\n",
       "0   1  [{'id': 313576, 'name': 'Hot Tub Time Machine ...  14000000   \n",
       "1   2  [{'id': 107674, 'name': 'The Princess Diaries ...  40000000   \n",
       "2   3                                                NaN   3300000   \n",
       "3   4                                                NaN   1200000   \n",
       "4   5                                                NaN         0   \n",
       "\n",
       "                                              genres  \\\n",
       "0                     [{'id': 35, 'name': 'Comedy'}]   \n",
       "1  [{'id': 35, 'name': 'Comedy'}, {'id': 18, 'nam...   \n",
       "2                      [{'id': 18, 'name': 'Drama'}]   \n",
       "3  [{'id': 53, 'name': 'Thriller'}, {'id': 18, 'n...   \n",
       "4  [{'id': 28, 'name': 'Action'}, {'id': 53, 'nam...   \n",
       "\n",
       "                            homepage    imdb_id original_language  \\\n",
       "0                                NaN  tt2637294                en   \n",
       "1                                NaN  tt0368933                en   \n",
       "2  http://sonyclassics.com/whiplash/  tt2582802                en   \n",
       "3         http://kahaanithefilm.com/  tt1821480                hi   \n",
       "4                                NaN  tt1380152                ko   \n",
       "\n",
       "                             original_title  \\\n",
       "0                    Hot Tub Time Machine 2   \n",
       "1  The Princess Diaries 2: Royal Engagement   \n",
       "2                                  Whiplash   \n",
       "3                                   Kahaani   \n",
       "4                                      마린보이   \n",
       "\n",
       "                                            overview  popularity  \\\n",
       "0  When Lou, who has become the \"father of the In...    6.575393   \n",
       "1  Mia Thermopolis is now a college graduate and ...    8.248895   \n",
       "2  Under the direction of a ruthless instructor, ...   64.299990   \n",
       "3  Vidya Bagchi (Vidya Balan) arrives in Kolkata ...    3.174936   \n",
       "4  Marine Boy is the story of a former national s...    1.148070   \n",
       "\n",
       "                        poster_path  \\\n",
       "0  /tQtWuwvMf0hCc2QR2tkolwl7c3c.jpg   \n",
       "1  /w9Z7A0GHEhIp7etpj0vyKOeU1Wx.jpg   \n",
       "2  /lIv1QinFqz4dlp5U4lQ6HaiskOZ.jpg   \n",
       "3  /aTXRaPrWSinhcmCrcfJK17urp3F.jpg   \n",
       "4  /m22s7zvkVFDU9ir56PiiqIEWFdT.jpg   \n",
       "\n",
       "                                production_companies  \\\n",
       "0  [{'name': 'Paramount Pictures', 'id': 4}, {'na...   \n",
       "1        [{'name': 'Walt Disney Pictures', 'id': 2}]   \n",
       "2  [{'name': 'Bold Films', 'id': 2266}, {'name': ...   \n",
       "3                                                NaN   \n",
       "4                                                NaN   \n",
       "\n",
       "                                production_countries release_date  runtime  \\\n",
       "0  [{'iso_3166_1': 'US', 'name': 'United States o...      2/20/15     93.0   \n",
       "1  [{'iso_3166_1': 'US', 'name': 'United States o...       8/6/04    113.0   \n",
       "2  [{'iso_3166_1': 'US', 'name': 'United States o...     10/10/14    105.0   \n",
       "3            [{'iso_3166_1': 'IN', 'name': 'India'}]       3/9/12    122.0   \n",
       "4      [{'iso_3166_1': 'KR', 'name': 'South Korea'}]       2/5/09    118.0   \n",
       "\n",
       "                                    spoken_languages    status  \\\n",
       "0           [{'iso_639_1': 'en', 'name': 'English'}]  Released   \n",
       "1           [{'iso_639_1': 'en', 'name': 'English'}]  Released   \n",
       "2           [{'iso_639_1': 'en', 'name': 'English'}]  Released   \n",
       "3  [{'iso_639_1': 'en', 'name': 'English'}, {'iso...  Released   \n",
       "4           [{'iso_639_1': 'ko', 'name': '한국어/조선말'}]  Released   \n",
       "\n",
       "                                             tagline  \\\n",
       "0  The Laws of Space and Time are About to be Vio...   \n",
       "1  It can take a lifetime to find true love; she'...   \n",
       "2    The road to greatness can take you to the edge.   \n",
       "3                                                NaN   \n",
       "4                                                NaN   \n",
       "\n",
       "                                      title  \\\n",
       "0                    Hot Tub Time Machine 2   \n",
       "1  The Princess Diaries 2: Royal Engagement   \n",
       "2                                  Whiplash   \n",
       "3                                   Kahaani   \n",
       "4                                Marine Boy   \n",
       "\n",
       "                                            Keywords  \\\n",
       "0  [{'id': 4379, 'name': 'time travel'}, {'id': 9...   \n",
       "1  [{'id': 2505, 'name': 'coronation'}, {'id': 42...   \n",
       "2  [{'id': 1416, 'name': 'jazz'}, {'id': 1523, 'n...   \n",
       "3  [{'id': 10092, 'name': 'mystery'}, {'id': 1054...   \n",
       "4                                                NaN   \n",
       "\n",
       "                                                cast  \\\n",
       "0  [{'cast_id': 4, 'character': 'Lou', 'credit_id...   \n",
       "1  [{'cast_id': 1, 'character': 'Mia Thermopolis'...   \n",
       "2  [{'cast_id': 5, 'character': 'Andrew Neimann',...   \n",
       "3  [{'cast_id': 1, 'character': 'Vidya Bagchi', '...   \n",
       "4  [{'cast_id': 3, 'character': 'Chun-soo', 'cred...   \n",
       "\n",
       "                                                crew   revenue  \n",
       "0  [{'credit_id': '59ac067c92514107af02c8c8', 'de...  12314651  \n",
       "1  [{'credit_id': '52fe43fe9251416c7502563d', 'de...  95149435  \n",
       "2  [{'credit_id': '54d5356ec3a3683ba0000039', 'de...  13092000  \n",
       "3  [{'credit_id': '52fe48779251416c9108d6eb', 'de...  16000000  \n",
       "4  [{'credit_id': '52fe464b9251416c75073b43', 'de...   3923970  "
      ]
     },
     "execution_count": 4,
     "metadata": {},
     "output_type": "execute_result"
    }
   ],
   "source": [
    "train.head(5)"
   ]
  },
  {
   "cell_type": "code",
   "execution_count": 5,
   "metadata": {},
   "outputs": [],
   "source": [
    "#Dropping uneccesary columns\n",
    "train.drop(columns = ['imdb_id', 'poster_path', 'status'], inplace = True)\n",
    "test.drop(columns = ['imdb_id', 'poster_path', 'status'], inplace = True)"
   ]
  },
  {
   "cell_type": "code",
   "execution_count": 6,
   "metadata": {},
   "outputs": [],
   "source": [
    "# Changing belongs to collection column to binary\n",
    "train[['belongs_to_collection']] = train[['belongs_to_collection']].where(train[['belongs_to_collection']].isnull(), 1).fillna(0).astype(int)\n",
    "test[['belongs_to_collection']] = test[['belongs_to_collection']].where(test[['belongs_to_collection']].isnull(), 1).fillna(0).astype(int)"
   ]
  },
  {
   "cell_type": "code",
   "execution_count": 7,
   "metadata": {},
   "outputs": [],
   "source": [
    "train[['homepage']] = train[['homepage']].where(train[['homepage']].isnull(), 1).fillna(0).astype(int)\n",
    "test[['homepage']] = test[['homepage']].where(test[['homepage']].isnull(), 1).fillna(0).astype(int)"
   ]
  },
  {
   "cell_type": "markdown",
   "metadata": {},
   "source": [
    "#### There lists of dictionaries that are in string form in a lot of the columns"
   ]
  },
  {
   "cell_type": "code",
   "execution_count": 8,
   "metadata": {},
   "outputs": [],
   "source": [
    "# Creating a list for the columns that have strings of a list of dictionaries\n",
    "\n",
    "dict_cols = ['genres', 'production_companies', 'production_countries', 'spoken_languages', 'Keywords', 'cast', 'crew']\n",
    "\n",
    "# Unpacking from the str\n",
    "for col in dict_cols:\n",
    "    train[col] = train[col].apply(lambda x: {} if pd.isna(x) else ast.literal_eval(x))\n",
    "for col in dict_cols:\n",
    "    test[col] = test[col].apply(lambda x: {} if pd.isna(x) else ast.literal_eval(x))"
   ]
  },
  {
   "cell_type": "code",
   "execution_count": 9,
   "metadata": {},
   "outputs": [],
   "source": [
    "# Creating a function to unpack the dictionaries\n",
    "\n",
    "def get_names(x, col):\n",
    "    #for loop \n",
    "    names = []\n",
    "    for item in x:\n",
    "        if col=='crew':\n",
    "            if item['job']=='Director':\n",
    "                names.append(item['name'])\n",
    "        elif col=='cast':\n",
    "            if item['order'] in (0,1,2,3,4,5):\n",
    "                names.append(item['name'])\n",
    "        else:\n",
    "            names.append(item['name'])\n",
    "    return names\n",
    "for col in dict_cols:\n",
    "    train[col] = train[col].apply(lambda x: get_names(x, col))\n",
    "for col in dict_cols:\n",
    "    test[col] = test[col].apply(lambda x: get_names(x, col))"
   ]
  },
  {
   "cell_type": "code",
   "execution_count": 10,
   "metadata": {},
   "outputs": [
    {
     "name": "stderr",
     "output_type": "stream",
     "text": [
      "/opt/anaconda3/lib/python3.8/site-packages/seaborn/distributions.py:2551: FutureWarning: `distplot` is a deprecated function and will be removed in a future version. Please adapt your code to use either `displot` (a figure-level function with similar flexibility) or `histplot` (an axes-level function for histograms).\n",
      "  warnings.warn(msg, FutureWarning)\n"
     ]
    },
    {
     "data": {
      "image/png": "[encoded data removed]",
      "text/plain": [
       "<Figure size 432x288 with 1 Axes>"
      ]
     },
     "metadata": {
      "needs_background": "light"
     },
     "output_type": "display_data"
    }
   ],
   "source": [
    "ax = sns.distplot(train['revenue'])"
   ]
  },
  {
   "cell_type": "markdown",
   "metadata": {},
   "source": [
    "### Taking a log of the target value in this case did not help the models better predict. Naturally target values in models respond better with evenly distributed values."
   ]
  },
  {
   "cell_type": "code",
   "execution_count": 11,
   "metadata": {},
   "outputs": [],
   "source": [
    "# train['revenue'] = train['revenue'].map(lambda x: np.log(x))"
   ]
  },
  {
   "cell_type": "markdown",
   "metadata": {},
   "source": [
    "### Plotting the top 10 popular movies\n",
    "\n",
    "\n",
    "\n",
    "credit https://www.kaggle.com/sherli/tmdb-boxoffice-revenue-prediction"
   ]
  },
  {
   "cell_type": "code",
   "execution_count": 12,
   "metadata": {},
   "outputs": [
    {
     "data": {
      "text/html": [
       "<div>\n",
       "<style scoped>\n",
       "    .dataframe tbody tr th:only-of-type {\n",
       "        vertical-align: middle;\n",
       "    }\n",
       "\n",
       "    .dataframe tbody tr th {\n",
       "        vertical-align: top;\n",
       "    }\n",
       "\n",
       "    .dataframe thead th {\n",
       "        text-align: right;\n",
       "    }\n",
       "</style>\n",
       "<table border=\"1\" class=\"dataframe\">\n",
       "  <thead>\n",
       "    <tr style=\"text-align: right;\">\n",
       "      <th></th>\n",
       "      <th>genres</th>\n",
       "      <th>original_title</th>\n",
       "      <th>production_companies</th>\n",
       "      <th>popularity</th>\n",
       "      <th>cast</th>\n",
       "      <th>crew</th>\n",
       "      <th>budget(million)</th>\n",
       "      <th>revenue(million)</th>\n",
       "    </tr>\n",
       "  </thead>\n",
       "  <tbody>\n",
       "    <tr>\n",
       "      <th>518</th>\n",
       "      <td>[Action, Adventure, Fantasy]</td>\n",
       "      <td>Wonder Woman</td>\n",
       "      <td>[Dune Entertainment, Atlas Entertainment, Warn...</td>\n",
       "      <td>294.337037</td>\n",
       "      <td>[]</td>\n",
       "      <td>[]</td>\n",
       "      <td>149</td>\n",
       "      <td>820</td>\n",
       "    </tr>\n",
       "    <tr>\n",
       "      <th>684</th>\n",
       "      <td>[Family, Fantasy, Romance]</td>\n",
       "      <td>Beauty and the Beast</td>\n",
       "      <td>[Walt Disney Pictures, Mandeville Films]</td>\n",
       "      <td>287.253654</td>\n",
       "      <td>[Emma Watson, Dan Stevens, Luke Evans, Kevin K...</td>\n",
       "      <td>[Bill Condon]</td>\n",
       "      <td>160</td>\n",
       "      <td>1262</td>\n",
       "    </tr>\n",
       "    <tr>\n",
       "      <th>1695</th>\n",
       "      <td>[Action, Crime]</td>\n",
       "      <td>Baby Driver</td>\n",
       "      <td>[Big Talk Productions, TriStar Pictures, Media...</td>\n",
       "      <td>228.032744</td>\n",
       "      <td>[Ansel Elgort, Lily James, Kevin Spacey, Jamie...</td>\n",
       "      <td>[Edgar Wright]</td>\n",
       "      <td>34</td>\n",
       "      <td>224</td>\n",
       "    </tr>\n",
       "    <tr>\n",
       "      <th>2326</th>\n",
       "      <td>[Action, Adventure, Comedy]</td>\n",
       "      <td>Deadpool</td>\n",
       "      <td>[Twentieth Century Fox Film Corporation, Marve...</td>\n",
       "      <td>187.860492</td>\n",
       "      <td>[Ryan Reynolds, Morena Baccarin, Ed Skrein, T....</td>\n",
       "      <td>[Tim Miller]</td>\n",
       "      <td>58</td>\n",
       "      <td>783</td>\n",
       "    </tr>\n",
       "    <tr>\n",
       "      <th>2126</th>\n",
       "      <td>[Action, Adventure, Comedy, Science Fiction]</td>\n",
       "      <td>Guardians of the Galaxy Vol. 2</td>\n",
       "      <td>[Walt Disney Pictures, Marvel Studios]</td>\n",
       "      <td>185.330992</td>\n",
       "      <td>[Chris Pratt, Zoe Saldana, Dave Bautista, Vin ...</td>\n",
       "      <td>[James Gunn]</td>\n",
       "      <td>200</td>\n",
       "      <td>863</td>\n",
       "    </tr>\n",
       "    <tr>\n",
       "      <th>1309</th>\n",
       "      <td>[Mystery, Thriller, Drama]</td>\n",
       "      <td>Gone Girl</td>\n",
       "      <td>[Twentieth Century Fox Film Corporation, Regen...</td>\n",
       "      <td>154.801009</td>\n",
       "      <td>[Ben Affleck, Rosamund Pike, Carrie Coon, Neil...</td>\n",
       "      <td>[David Fincher]</td>\n",
       "      <td>61</td>\n",
       "      <td>369</td>\n",
       "    </tr>\n",
       "    <tr>\n",
       "      <th>1715</th>\n",
       "      <td>[Drama, Science Fiction, War]</td>\n",
       "      <td>War for the Planet of the Apes</td>\n",
       "      <td>[Chernin Entertainment]</td>\n",
       "      <td>146.161786</td>\n",
       "      <td>[Andy Serkis, Woody Harrelson, Steve Zahn, Kar...</td>\n",
       "      <td>[Matt Reeves]</td>\n",
       "      <td>152</td>\n",
       "      <td>369</td>\n",
       "    </tr>\n",
       "    <tr>\n",
       "      <th>1673</th>\n",
       "      <td>[Drama, Action, Crime, Thriller]</td>\n",
       "      <td>The Dark Knight</td>\n",
       "      <td>[DC Comics, Legendary Pictures, Warner Bros., ...</td>\n",
       "      <td>123.167259</td>\n",
       "      <td>[Christian Bale, Michael Caine, Heath Ledger, ...</td>\n",
       "      <td>[Christopher Nolan]</td>\n",
       "      <td>185</td>\n",
       "      <td>1004</td>\n",
       "    </tr>\n",
       "    <tr>\n",
       "      <th>1126</th>\n",
       "      <td>[Science Fiction, Action, Adventure]</td>\n",
       "      <td>The Avengers</td>\n",
       "      <td>[Paramount Pictures, Marvel Studios]</td>\n",
       "      <td>89.887648</td>\n",
       "      <td>[Robert Downey Jr., Chris Evans, Mark Ruffalo,...</td>\n",
       "      <td>[Joss Whedon]</td>\n",
       "      <td>220</td>\n",
       "      <td>1519</td>\n",
       "    </tr>\n",
       "    <tr>\n",
       "      <th>2293</th>\n",
       "      <td>[Drama, Thriller, Science Fiction]</td>\n",
       "      <td>The Circle</td>\n",
       "      <td>[Likely Story, Playtone, Image Nation]</td>\n",
       "      <td>88.439243</td>\n",
       "      <td>[Emma Watson, Tom Hanks, John Boyega, Karen Gi...</td>\n",
       "      <td>[James Ponsoldt]</td>\n",
       "      <td>18</td>\n",
       "      <td>20</td>\n",
       "    </tr>\n",
       "  </tbody>\n",
       "</table>\n",
       "</div>"
      ],
      "text/plain": [
       "                                            genres  \\\n",
       "518                   [Action, Adventure, Fantasy]   \n",
       "684                     [Family, Fantasy, Romance]   \n",
       "1695                               [Action, Crime]   \n",
       "2326                   [Action, Adventure, Comedy]   \n",
       "2126  [Action, Adventure, Comedy, Science Fiction]   \n",
       "1309                    [Mystery, Thriller, Drama]   \n",
       "1715                 [Drama, Science Fiction, War]   \n",
       "1673              [Drama, Action, Crime, Thriller]   \n",
       "1126          [Science Fiction, Action, Adventure]   \n",
       "2293            [Drama, Thriller, Science Fiction]   \n",
       "\n",
       "                      original_title  \\\n",
       "518                     Wonder Woman   \n",
       "684             Beauty and the Beast   \n",
       "1695                     Baby Driver   \n",
       "2326                        Deadpool   \n",
       "2126  Guardians of the Galaxy Vol. 2   \n",
       "1309                       Gone Girl   \n",
       "1715  War for the Planet of the Apes   \n",
       "1673                 The Dark Knight   \n",
       "1126                    The Avengers   \n",
       "2293                      The Circle   \n",
       "\n",
       "                                   production_companies  popularity  \\\n",
       "518   [Dune Entertainment, Atlas Entertainment, Warn...  294.337037   \n",
       "684            [Walt Disney Pictures, Mandeville Films]  287.253654   \n",
       "1695  [Big Talk Productions, TriStar Pictures, Media...  228.032744   \n",
       "2326  [Twentieth Century Fox Film Corporation, Marve...  187.860492   \n",
       "2126             [Walt Disney Pictures, Marvel Studios]  185.330992   \n",
       "1309  [Twentieth Century Fox Film Corporation, Regen...  154.801009   \n",
       "1715                            [Chernin Entertainment]  146.161786   \n",
       "1673  [DC Comics, Legendary Pictures, Warner Bros., ...  123.167259   \n",
       "1126               [Paramount Pictures, Marvel Studios]   89.887648   \n",
       "2293             [Likely Story, Playtone, Image Nation]   88.439243   \n",
       "\n",
       "                                                   cast                 crew  \\\n",
       "518                                                  []                   []   \n",
       "684   [Emma Watson, Dan Stevens, Luke Evans, Kevin K...        [Bill Condon]   \n",
       "1695  [Ansel Elgort, Lily James, Kevin Spacey, Jamie...       [Edgar Wright]   \n",
       "2326  [Ryan Reynolds, Morena Baccarin, Ed Skrein, T....         [Tim Miller]   \n",
       "2126  [Chris Pratt, Zoe Saldana, Dave Bautista, Vin ...         [James Gunn]   \n",
       "1309  [Ben Affleck, Rosamund Pike, Carrie Coon, Neil...      [David Fincher]   \n",
       "1715  [Andy Serkis, Woody Harrelson, Steve Zahn, Kar...        [Matt Reeves]   \n",
       "1673  [Christian Bale, Michael Caine, Heath Ledger, ...  [Christopher Nolan]   \n",
       "1126  [Robert Downey Jr., Chris Evans, Mark Ruffalo,...        [Joss Whedon]   \n",
       "2293  [Emma Watson, Tom Hanks, John Boyega, Karen Gi...     [James Ponsoldt]   \n",
       "\n",
       "      budget(million)  revenue(million)  \n",
       "518               149               820  \n",
       "684               160              1262  \n",
       "1695               34               224  \n",
       "2326               58               783  \n",
       "2126              200               863  \n",
       "1309               61               369  \n",
       "1715              152               369  \n",
       "1673              185              1004  \n",
       "1126              220              1519  \n",
       "2293               18                20  "
      ]
     },
     "execution_count": 12,
     "metadata": {},
     "output_type": "execute_result"
    }
   ],
   "source": [
    "most_popular_movies = train.sort_values('popularity', ascending=False).head(n=10)\n",
    "most_popular_movies['revenue(million)'] = most_popular_movies['revenue'].apply(lambda x : x//1000000)    # revenue in millions\n",
    "most_popular_movies['budget(million)'] = most_popular_movies['budget'].apply(lambda x : x//1000000)    # revenue in millions\n",
    "most_popular_movies[['genres', 'original_title', 'production_companies', 'popularity', 'cast', 'crew', 'budget(million)', 'revenue(million)']]"
   ]
  },
  {
   "cell_type": "code",
   "execution_count": 13,
   "metadata": {},
   "outputs": [
    {
     "data": {
      "image/png": "[encoded data removed]",
      "text/plain": [
       "<Figure size 864x720 with 1 Axes>"
      ]
     },
     "metadata": {
      "needs_background": "light"
     },
     "output_type": "display_data"
    }
   ],
   "source": [
    "plt.figure(figsize=(12, 10))\n",
    "ax = sns.barplot(y='original_title', x='popularity', data=most_popular_movies, order=most_popular_movies.sort_values('popularity', ascending=False).original_title, orient='h')\n",
    "for p in ax.patches:\n",
    "        ax.annotate('{}'.format(int(p.get_width())), (p.get_width(), p.get_y()+0.5), fontsize=12)\n",
    "plt.title('Top 10 Most Popular Movies', fontsize=12)\n",
    "plt.ylabel('')\n",
    "plt.show()"
   ]
  },
  {
   "cell_type": "markdown",
   "metadata": {},
   "source": [
    "### Top 10 in revenue column"
   ]
  },
  {
   "cell_type": "code",
   "execution_count": 14,
   "metadata": {},
   "outputs": [
    {
     "data": {
      "text/html": [
       "<div>\n",
       "<style scoped>\n",
       "    .dataframe tbody tr th:only-of-type {\n",
       "        vertical-align: middle;\n",
       "    }\n",
       "\n",
       "    .dataframe tbody tr th {\n",
       "        vertical-align: top;\n",
       "    }\n",
       "\n",
       "    .dataframe thead th {\n",
       "        text-align: right;\n",
       "    }\n",
       "</style>\n",
       "<table border=\"1\" class=\"dataframe\">\n",
       "  <thead>\n",
       "    <tr style=\"text-align: right;\">\n",
       "      <th></th>\n",
       "      <th>genres</th>\n",
       "      <th>original_title</th>\n",
       "      <th>production_companies</th>\n",
       "      <th>popularity</th>\n",
       "      <th>cast</th>\n",
       "      <th>crew</th>\n",
       "      <th>budget(million)</th>\n",
       "      <th>revenue(million)</th>\n",
       "    </tr>\n",
       "  </thead>\n",
       "  <tbody>\n",
       "    <tr>\n",
       "      <th>1126</th>\n",
       "      <td>[Science Fiction, Action, Adventure]</td>\n",
       "      <td>The Avengers</td>\n",
       "      <td>[Paramount Pictures, Marvel Studios]</td>\n",
       "      <td>89.887648</td>\n",
       "      <td>[Robert Downey Jr., Chris Evans, Mark Ruffalo,...</td>\n",
       "      <td>[Joss Whedon]</td>\n",
       "      <td>220</td>\n",
       "      <td>1519</td>\n",
       "    </tr>\n",
       "    <tr>\n",
       "      <th>1761</th>\n",
       "      <td>[Action]</td>\n",
       "      <td>Furious 7</td>\n",
       "      <td>[Universal Pictures, Original Film, Fuji Telev...</td>\n",
       "      <td>27.275687</td>\n",
       "      <td>[Vin Diesel, Paul Walker, Dwayne Johnson, Mich...</td>\n",
       "      <td>[James Wan]</td>\n",
       "      <td>190</td>\n",
       "      <td>1506</td>\n",
       "    </tr>\n",
       "    <tr>\n",
       "      <th>2770</th>\n",
       "      <td>[Action, Adventure, Science Fiction]</td>\n",
       "      <td>Avengers: Age of Ultron</td>\n",
       "      <td>[Marvel Studios, Prime Focus, Revolution Sun S...</td>\n",
       "      <td>37.379420</td>\n",
       "      <td>[Robert Downey Jr., Chris Hemsworth, Mark Ruff...</td>\n",
       "      <td>[Joss Whedon]</td>\n",
       "      <td>280</td>\n",
       "      <td>1405</td>\n",
       "    </tr>\n",
       "    <tr>\n",
       "      <th>684</th>\n",
       "      <td>[Family, Fantasy, Romance]</td>\n",
       "      <td>Beauty and the Beast</td>\n",
       "      <td>[Walt Disney Pictures, Mandeville Films]</td>\n",
       "      <td>287.253654</td>\n",
       "      <td>[Emma Watson, Dan Stevens, Luke Evans, Kevin K...</td>\n",
       "      <td>[Bill Condon]</td>\n",
       "      <td>160</td>\n",
       "      <td>1262</td>\n",
       "    </tr>\n",
       "    <tr>\n",
       "      <th>2322</th>\n",
       "      <td>[Action, Science Fiction, Adventure]</td>\n",
       "      <td>Transformers: Dark of the Moon</td>\n",
       "      <td>[Paramount Pictures, Di Bonaventura Pictures, ...</td>\n",
       "      <td>4.503505</td>\n",
       "      <td>[Shia LaBeouf, John Malkovich, Ken Jeong, Fran...</td>\n",
       "      <td>[Michael Bay]</td>\n",
       "      <td>195</td>\n",
       "      <td>1123</td>\n",
       "    </tr>\n",
       "    <tr>\n",
       "      <th>906</th>\n",
       "      <td>[Action, Crime, Drama, Thriller]</td>\n",
       "      <td>The Dark Knight Rises</td>\n",
       "      <td>[Legendary Pictures, Warner Bros., DC Entertai...</td>\n",
       "      <td>20.582580</td>\n",
       "      <td>[]</td>\n",
       "      <td>[]</td>\n",
       "      <td>250</td>\n",
       "      <td>1084</td>\n",
       "    </tr>\n",
       "    <tr>\n",
       "      <th>2135</th>\n",
       "      <td>[Adventure, Action, Fantasy]</td>\n",
       "      <td>Pirates of the Caribbean: On Stranger Tides</td>\n",
       "      <td>[Walt Disney Pictures, Jerry Bruckheimer Films...</td>\n",
       "      <td>27.887720</td>\n",
       "      <td>[Johnny Depp, Pen√©lope Cruz, Ian McShane, Kev...</td>\n",
       "      <td>[Rob Marshall]</td>\n",
       "      <td>380</td>\n",
       "      <td>1045</td>\n",
       "    </tr>\n",
       "    <tr>\n",
       "      <th>2562</th>\n",
       "      <td>[Adventure, Animation, Comedy, Family]</td>\n",
       "      <td>Finding Dory</td>\n",
       "      <td>[Walt Disney Pictures, Pixar Animation Studios...</td>\n",
       "      <td>14.477677</td>\n",
       "      <td>[Ellen DeGeneres, Albert Brooks, Hayden Rolenc...</td>\n",
       "      <td>[Andrew Stanton, Angus MacLane]</td>\n",
       "      <td>200</td>\n",
       "      <td>1028</td>\n",
       "    </tr>\n",
       "    <tr>\n",
       "      <th>881</th>\n",
       "      <td>[Family, Fantasy, Adventure]</td>\n",
       "      <td>Alice in Wonderland</td>\n",
       "      <td>[Walt Disney Pictures, Team Todd, Tim Burton P...</td>\n",
       "      <td>17.285093</td>\n",
       "      <td>[Mia Wasikowska, Johnny Depp, Anne Hathaway, H...</td>\n",
       "      <td>[Tim Burton]</td>\n",
       "      <td>200</td>\n",
       "      <td>1025</td>\n",
       "    </tr>\n",
       "    <tr>\n",
       "      <th>734</th>\n",
       "      <td>[Animation, Adventure, Family, Comedy]</td>\n",
       "      <td>Zootopia</td>\n",
       "      <td>[Walt Disney Pictures, Walt Disney Animation S...</td>\n",
       "      <td>26.024868</td>\n",
       "      <td>[Ginnifer Goodwin, Jason Bateman, Shakira, Idr...</td>\n",
       "      <td>[Byron Howard, Rich Moore, Jared Bush]</td>\n",
       "      <td>150</td>\n",
       "      <td>1023</td>\n",
       "    </tr>\n",
       "  </tbody>\n",
       "</table>\n",
       "</div>"
      ],
      "text/plain": [
       "                                      genres  \\\n",
       "1126    [Science Fiction, Action, Adventure]   \n",
       "1761                                [Action]   \n",
       "2770    [Action, Adventure, Science Fiction]   \n",
       "684               [Family, Fantasy, Romance]   \n",
       "2322    [Action, Science Fiction, Adventure]   \n",
       "906         [Action, Crime, Drama, Thriller]   \n",
       "2135            [Adventure, Action, Fantasy]   \n",
       "2562  [Adventure, Animation, Comedy, Family]   \n",
       "881             [Family, Fantasy, Adventure]   \n",
       "734   [Animation, Adventure, Family, Comedy]   \n",
       "\n",
       "                                   original_title  \\\n",
       "1126                                 The Avengers   \n",
       "1761                                    Furious 7   \n",
       "2770                      Avengers: Age of Ultron   \n",
       "684                          Beauty and the Beast   \n",
       "2322               Transformers: Dark of the Moon   \n",
       "906                         The Dark Knight Rises   \n",
       "2135  Pirates of the Caribbean: On Stranger Tides   \n",
       "2562                                 Finding Dory   \n",
       "881                           Alice in Wonderland   \n",
       "734                                      Zootopia   \n",
       "\n",
       "                                   production_companies  popularity  \\\n",
       "1126               [Paramount Pictures, Marvel Studios]   89.887648   \n",
       "1761  [Universal Pictures, Original Film, Fuji Telev...   27.275687   \n",
       "2770  [Marvel Studios, Prime Focus, Revolution Sun S...   37.379420   \n",
       "684            [Walt Disney Pictures, Mandeville Films]  287.253654   \n",
       "2322  [Paramount Pictures, Di Bonaventura Pictures, ...    4.503505   \n",
       "906   [Legendary Pictures, Warner Bros., DC Entertai...   20.582580   \n",
       "2135  [Walt Disney Pictures, Jerry Bruckheimer Films...   27.887720   \n",
       "2562  [Walt Disney Pictures, Pixar Animation Studios...   14.477677   \n",
       "881   [Walt Disney Pictures, Team Todd, Tim Burton P...   17.285093   \n",
       "734   [Walt Disney Pictures, Walt Disney Animation S...   26.024868   \n",
       "\n",
       "                                                   cast  \\\n",
       "1126  [Robert Downey Jr., Chris Evans, Mark Ruffalo,...   \n",
       "1761  [Vin Diesel, Paul Walker, Dwayne Johnson, Mich...   \n",
       "2770  [Robert Downey Jr., Chris Hemsworth, Mark Ruff...   \n",
       "684   [Emma Watson, Dan Stevens, Luke Evans, Kevin K...   \n",
       "2322  [Shia LaBeouf, John Malkovich, Ken Jeong, Fran...   \n",
       "906                                                  []   \n",
       "2135  [Johnny Depp, Pen√©lope Cruz, Ian McShane, Kev...   \n",
       "2562  [Ellen DeGeneres, Albert Brooks, Hayden Rolenc...   \n",
       "881   [Mia Wasikowska, Johnny Depp, Anne Hathaway, H...   \n",
       "734   [Ginnifer Goodwin, Jason Bateman, Shakira, Idr...   \n",
       "\n",
       "                                        crew  budget(million)  \\\n",
       "1126                           [Joss Whedon]              220   \n",
       "1761                             [James Wan]              190   \n",
       "2770                           [Joss Whedon]              280   \n",
       "684                            [Bill Condon]              160   \n",
       "2322                           [Michael Bay]              195   \n",
       "906                                       []              250   \n",
       "2135                          [Rob Marshall]              380   \n",
       "2562         [Andrew Stanton, Angus MacLane]              200   \n",
       "881                             [Tim Burton]              200   \n",
       "734   [Byron Howard, Rich Moore, Jared Bush]              150   \n",
       "\n",
       "      revenue(million)  \n",
       "1126              1519  \n",
       "1761              1506  \n",
       "2770              1405  \n",
       "684               1262  \n",
       "2322              1123  \n",
       "906               1084  \n",
       "2135              1045  \n",
       "2562              1028  \n",
       "881               1025  \n",
       "734               1023  "
      ]
     },
     "execution_count": 14,
     "metadata": {},
     "output_type": "execute_result"
    }
   ],
   "source": [
    "highest_revenue_movies = train.sort_values('revenue', ascending=False).head(n=10)\n",
    "highest_revenue_movies['revenue(million)'] = highest_revenue_movies['revenue'].apply(lambda x : x//1000000)    # revenue in millions\n",
    "highest_revenue_movies['budget(million)'] = highest_revenue_movies['budget'].apply(lambda x : x//1000000)    # revenue in millions\n",
    "highest_revenue_movies[['genres', 'original_title', 'production_companies', 'popularity', 'cast', 'crew', 'budget(million)', 'revenue(million)']]"
   ]
  },
  {
   "cell_type": "code",
   "execution_count": 15,
   "metadata": {},
   "outputs": [
    {
     "data": {
      "image/png": "[encoded data removed]",
      "text/plain": [
       "<Figure size 864x720 with 1 Axes>"
      ]
     },
     "metadata": {
      "needs_background": "light"
     },
     "output_type": "display_data"
    }
   ],
   "source": [
    "plt.figure(figsize=(12, 10))\n",
    "ax = sns.barplot(y='original_title', x='revenue(million)', data=highest_revenue_movies, order=highest_revenue_movies.sort_values('revenue(million)', ascending=False).original_title, orient='h')\n",
    "for p in ax.patches:\n",
    "        ax.annotate('{}'.format(int(p.get_width())), (p.get_width(), p.get_y()+0.5), fontsize=12)\n",
    "plt.title('Top 10 High Revenue(million) Movies', fontsize=12)\n",
    "plt.ylabel('')\n",
    "plt.show()"
   ]
  },
  {
   "cell_type": "markdown",
   "metadata": {},
   "source": [
    "## EDA"
   ]
  },
  {
   "cell_type": "code",
   "execution_count": 16,
   "metadata": {},
   "outputs": [
    {
     "data": {
      "text/plain": [
       "id                         0\n",
       "belongs_to_collection      0\n",
       "budget                     0\n",
       "genres                     0\n",
       "homepage                   0\n",
       "original_language          0\n",
       "original_title             0\n",
       "overview                   8\n",
       "popularity                 0\n",
       "production_companies       0\n",
       "production_countries       0\n",
       "release_date               0\n",
       "runtime                    2\n",
       "spoken_languages           0\n",
       "tagline                  597\n",
       "title                      0\n",
       "Keywords                   0\n",
       "cast                       0\n",
       "crew                       0\n",
       "revenue                    0\n",
       "dtype: int64"
      ]
     },
     "execution_count": 16,
     "metadata": {},
     "output_type": "execute_result"
    }
   ],
   "source": [
    "train.isnull().sum()"
   ]
  },
  {
   "cell_type": "code",
   "execution_count": 17,
   "metadata": {},
   "outputs": [],
   "source": [
    "train.overview.fillna('None',inplace=True)\n",
    "test.overview.fillna('None',inplace=True)\n",
    "train.tagline.fillna('None',inplace=True)\n",
    "test.tagline.fillna('None',inplace=True)\n",
    "train.runtime.fillna(train['runtime'].mean(), inplace=True)\n",
    "test.runtime.fillna(test['runtime'].mean(), inplace=True)\n",
    "train['release_month'] = pd.DatetimeIndex(train['release_date']).month\n",
    "train['prod_co_length'] = train['production_companies'].str.len() # Creating a column\n",
    "                                                            # with the number of prod co\n",
    "train['overview_word_count'] = train['overview'].str.split().apply(len)\n",
    "test['release_month'] = pd.DatetimeIndex(test['release_date']).month\n",
    "test['prod_co_length'] = test['production_companies'].str.len()\n",
    "test['overview_word_count'] = test['overview'].str.split().apply(len)\n",
    "train['release_month'] = train['release_month'].astype(str)\n",
    "test['release_month'] = test['release_month'].astype(str)\n",
    "train = pd.concat([train, pd.get_dummies(train.production_countries.apply(pd.Series).stack()).sum(level=0)], axis=1)\n",
    "train = pd.concat([train, pd.get_dummies(train.genres.apply(pd.Series).stack()).sum(level=0)], axis=1)\n",
    "test = pd.concat([test, pd.get_dummies(test.production_countries.apply(pd.Series).stack()).sum(level=0)], axis=1)\n",
    "test = pd.concat([test, pd.get_dummies(test.genres.apply(pd.Series).stack()).sum(level=0)], axis=1)\n",
    "\n",
    "\n",
    "\n",
    "#These turned out to be unecessary\n",
    "\n",
    "# train = pd.concat([train, pd.get_dummies(train.cast.apply(pd.Series).stack()).sum(level=0)], axis=1)\n",
    "# test = pd.concat([test, pd.get_dummies(test.cast.apply(pd.Series).stack()).sum(level=0)], axis=1)\n",
    "# train = pd.concat([train, pd.get_dummies(train.release_month.apply(pd.Series).stack()).sum(level=0)], axis=1)\n",
    "# test = pd.concat([test, pd.get_dummies(test.release_month.apply(pd.Series).stack()).sum(level=0)], axis=1)\n",
    "# train = pd.concat([train, pd.get_dummies(train.production_companies.apply(pd.Series).stack()).sum(level=0)], axis=1)\n",
    "# test = pd.concat([test, pd.get_dummies(test.production_companies.apply(pd.Series).stack()).sum(level=0)], axis=1)"
   ]
  },
  {
   "cell_type": "markdown",
   "metadata": {},
   "source": [
    "The test data had null values that needed to be filled. So we pulled the data from the other parts of the row to refill the title columns with nulls."
   ]
  },
  {
   "cell_type": "code",
   "execution_count": 18,
   "metadata": {},
   "outputs": [
    {
     "name": "stderr",
     "output_type": "stream",
     "text": [
      "/opt/anaconda3/lib/python3.8/site-packages/pandas/core/indexing.py:670: SettingWithCopyWarning: \n",
      "A value is trying to be set on a copy of a slice from a DataFrame\n",
      "\n",
      "See the caveats in the documentation: https://pandas.pydata.org/pandas-docs/stable/user_guide/indexing.html#returning-a-view-versus-a-copy\n",
      "  iloc._setitem_with_indexer(indexer, value)\n"
     ]
    }
   ],
   "source": [
    "test['title'].loc[2398] = 'Biography of Guskou Budori'\n",
    "test['title'].loc[2425] = 'La Vérité si je Mens !'\n",
    "test['title'].loc[3628] = 'Barefoot'"
   ]
  },
  {
   "cell_type": "markdown",
   "metadata": {},
   "source": [
    "#### After creating dummy variables with the lists in the columns, some of those lists were empty so we're filling these columns with nulls."
   ]
  },
  {
   "cell_type": "code",
   "execution_count": 19,
   "metadata": {},
   "outputs": [],
   "source": [
    "train.fillna(0,inplace=True)\n",
    "test.fillna(0,inplace=True)"
   ]
  },
  {
   "cell_type": "code",
   "execution_count": 20,
   "metadata": {},
   "outputs": [],
   "source": [
    "#imports\n",
    "\n",
    "from sklearn.model_selection import train_test_split, cross_val_score, GridSearchCV\n",
    "from sklearn.ensemble import RandomForestRegressor, BaggingRegressor, AdaBoostRegressor\n",
    "from sklearn.tree import DecisionTreeRegressor\n",
    "from sklearn.linear_model import LinearRegression, Ridge, RidgeCV,Lasso, LassoCV\n",
    "from sklearn.svm import SVR\n",
    "from sklearn.model_selection import GridSearchCV\n",
    "from sklearn.pipeline import Pipeline\n",
    "from sklearn.preprocessing import StandardScaler, PolynomialFeatures\n",
    "from sklearn.feature_selection import SelectFromModel\n",
    "from sklearn.metrics import mean_squared_error"
   ]
  },
  {
   "cell_type": "code",
   "execution_count": 21,
   "metadata": {},
   "outputs": [
    {
     "data": {
      "text/plain": [
       "Drama                      -0.158280\n",
       "Documentary                -0.078030\n",
       "France                     -0.060782\n",
       "Russia                     -0.055180\n",
       "India                      -0.052377\n",
       "Romance                    -0.049436\n",
       "Foreign                    -0.048191\n",
       "History                    -0.044172\n",
       "Spain                      -0.035532\n",
       "Horror                     -0.034041\n",
       "revenue                     1.000000\n",
       "budget                      0.752965\n",
       "popularity                  0.461460\n",
       "belongs_to_collection       0.339425\n",
       "Adventure                   0.328439\n",
       "homepage                    0.263179\n",
       "runtime                     0.216363\n",
       "United States of America    0.197595\n",
       "Action                      0.184584\n",
       "Fantasy                     0.171040\n",
       "Name: revenue, dtype: float64"
      ]
     },
     "execution_count": 21,
     "metadata": {},
     "output_type": "execute_result"
    }
   ],
   "source": [
    "train.corr()['revenue'].sort_values(ascending=True).head(10).append(train.corr()['revenue'].sort_values(ascending=False).head(10))"
   ]
  },
  {
   "cell_type": "code",
   "execution_count": 22,
   "metadata": {},
   "outputs": [],
   "source": [
    "train.fillna(0,inplace=True)\n",
    "test.fillna(0,inplace=True)"
   ]
  },
  {
   "cell_type": "markdown",
   "metadata": {},
   "source": [
    "### Lets begin modeling."
   ]
  },
  {
   "cell_type": "code",
   "execution_count": 23,
   "metadata": {},
   "outputs": [],
   "source": [
    "X1 = train[['budget', 'belongs_to_collection', 'homepage', 'popularity']]\n",
    "y1 = train['revenue']\n",
    "\n",
    "X_train1, X_test1, y_train1, y_test1 = train_test_split(X1,y1,test_size=.15)"
   ]
  },
  {
   "cell_type": "markdown",
   "metadata": {},
   "source": [
    "#### Baseline Model"
   ]
  },
  {
   "cell_type": "code",
   "execution_count": 24,
   "metadata": {},
   "outputs": [],
   "source": [
    "lr = LinearRegression().fit(X_train1, y_train1)"
   ]
  },
  {
   "cell_type": "code",
   "execution_count": 25,
   "metadata": {},
   "outputs": [
    {
     "data": {
      "text/plain": [
       "(0.6487236406874077, 0.6010112121717481)"
      ]
     },
     "execution_count": 25,
     "metadata": {},
     "output_type": "execute_result"
    }
   ],
   "source": [
    "lr.score(X_train1,y_train1), lr.score(X_test1,y_test1)"
   ]
  },
  {
   "cell_type": "markdown",
   "metadata": {},
   "source": [
    "### Now to try and do better"
   ]
  },
  {
   "cell_type": "code",
   "execution_count": 26,
   "metadata": {},
   "outputs": [],
   "source": [
    "X = train[['budget','popularity','Adventure','homepage','runtime',\n",
    "          'United States of America', 'belongs_to_collection', 'Drama',\n",
    "         'Action']]\n",
    "y = train['revenue']\n",
    "\n",
    "X_train, X_test, y_train, y_test = train_test_split(X,y,test_size=.15)"
   ]
  },
  {
   "cell_type": "code",
   "execution_count": 27,
   "metadata": {},
   "outputs": [],
   "source": [
    "pipey = Pipeline([\n",
    "    ('sc', StandardScaler()),\n",
    "    ('ada', AdaBoostRegressor()),\n",
    "])\n",
    "\n",
    "pipey_params = {\n",
    "    'ada__n_estimators': [50,100],\n",
    "    'ada__learning_rate': [.9, 1.]\n",
    "}\n",
    "gs = GridSearchCV(pipey, param_grid=pipey_params, cv=3, verbose=1, n_jobs=-1)"
   ]
  },
  {
   "cell_type": "code",
   "execution_count": 28,
   "metadata": {},
   "outputs": [
    {
     "name": "stdout",
     "output_type": "stream",
     "text": [
      "Fitting 3 folds for each of 4 candidates, totalling 12 fits\n"
     ]
    },
    {
     "name": "stderr",
     "output_type": "stream",
     "text": [
      "[Parallel(n_jobs=-1)]: Using backend LokyBackend with 16 concurrent workers.\n",
      "[Parallel(n_jobs=-1)]: Done   7 out of  12 | elapsed:    1.7s remaining:    1.2s\n",
      "[Parallel(n_jobs=-1)]: Done  12 out of  12 | elapsed:    1.8s finished\n"
     ]
    },
    {
     "data": {
      "text/plain": [
       "GridSearchCV(cv=3,\n",
       "             estimator=Pipeline(steps=[('sc', StandardScaler()),\n",
       "                                       ('ada', AdaBoostRegressor())]),\n",
       "             n_jobs=-1,\n",
       "             param_grid={'ada__learning_rate': [0.9, 1.0],\n",
       "                         'ada__n_estimators': [50, 100]},\n",
       "             verbose=1)"
      ]
     },
     "execution_count": 28,
     "metadata": {},
     "output_type": "execute_result"
    }
   ],
   "source": [
    "gs.fit(X_train,y_train)"
   ]
  },
  {
   "cell_type": "code",
   "execution_count": 29,
   "metadata": {},
   "outputs": [
    {
     "data": {
      "text/plain": [
       "0.4113843484261457"
      ]
     },
     "execution_count": 29,
     "metadata": {},
     "output_type": "execute_result"
    }
   ],
   "source": [
    "gs.best_score_"
   ]
  },
  {
   "cell_type": "code",
   "execution_count": 30,
   "metadata": {},
   "outputs": [
    {
     "data": {
      "text/plain": [
       "{'ada__learning_rate': 1.0, 'ada__n_estimators': 50}"
      ]
     },
     "execution_count": 30,
     "metadata": {},
     "output_type": "execute_result"
    }
   ],
   "source": [
    "gs.best_params_"
   ]
  },
  {
   "cell_type": "code",
   "execution_count": 31,
   "metadata": {},
   "outputs": [],
   "source": [
    "pipe = Pipeline([\n",
    "    ('sc', StandardScaler()),\n",
    "    ('lasso', LassoCV(cv=5, max_iter=50000, tol=0.1, selection='random', n_jobs=-1))])"
   ]
  },
  {
   "cell_type": "code",
   "execution_count": 32,
   "metadata": {},
   "outputs": [
    {
     "data": {
      "text/plain": [
       "Pipeline(steps=[('sc', StandardScaler()),\n",
       "                ('lasso',\n",
       "                 LassoCV(cv=5, max_iter=50000, n_jobs=-1, selection='random',\n",
       "                         tol=0.1))])"
      ]
     },
     "execution_count": 32,
     "metadata": {},
     "output_type": "execute_result"
    }
   ],
   "source": [
    "pipe.fit(X_train,y_train)"
   ]
  },
  {
   "cell_type": "code",
   "execution_count": 33,
   "metadata": {},
   "outputs": [
    {
     "data": {
      "text/plain": [
       "(0.6424530367078061, 0.6828853988669668)"
      ]
     },
     "execution_count": 33,
     "metadata": {},
     "output_type": "execute_result"
    }
   ],
   "source": [
    "pipe.score(X_train,y_train), pipe.score(X_test,y_test)"
   ]
  },
  {
   "cell_type": "code",
   "execution_count": 34,
   "metadata": {},
   "outputs": [],
   "source": [
    "r_alphas = np.logspace(0,5,100)"
   ]
  },
  {
   "cell_type": "code",
   "execution_count": 35,
   "metadata": {},
   "outputs": [],
   "source": [
    "ridge_pipe = Pipeline([\n",
    "    ('sc', StandardScaler()),\n",
    "    ('ridge', RidgeCV(alphas = r_alphas,\n",
    "                  scoring = 'r2',\n",
    "                  cv = 5))])"
   ]
  },
  {
   "cell_type": "code",
   "execution_count": 36,
   "metadata": {},
   "outputs": [
    {
     "data": {
      "text/plain": [
       "Pipeline(steps=[('sc', StandardScaler()),\n",
       "                ('ridge',\n",
       "                 RidgeCV(alphas=array([1.00000000e+00, 1.12332403e+00, 1.26185688e+00, 1.41747416e+00,\n",
       "       1.59228279e+00, 1.78864953e+00, 2.00923300e+00, 2.25701972e+00,\n",
       "       2.53536449e+00, 2.84803587e+00, 3.19926714e+00, 3.59381366e+00,\n",
       "       4.03701726e+00, 4.53487851e+00, 5.09413801e+00, 5.72236766e+00,\n",
       "       6.42807312e+00, 7.22080902e+00, 8.1113083...\n",
       "       6.89261210e+03, 7.74263683e+03, 8.69749003e+03, 9.77009957e+03,\n",
       "       1.09749877e+04, 1.23284674e+04, 1.38488637e+04, 1.55567614e+04,\n",
       "       1.74752840e+04, 1.96304065e+04, 2.20513074e+04, 2.47707636e+04,\n",
       "       2.78255940e+04, 3.12571585e+04, 3.51119173e+04, 3.94420606e+04,\n",
       "       4.43062146e+04, 4.97702356e+04, 5.59081018e+04, 6.28029144e+04,\n",
       "       7.05480231e+04, 7.92482898e+04, 8.90215085e+04, 1.00000000e+05]),\n",
       "                         cv=5, scoring='r2'))])"
      ]
     },
     "execution_count": 36,
     "metadata": {},
     "output_type": "execute_result"
    }
   ],
   "source": [
    "ridge_pipe.fit(X_train,y_train)"
   ]
  },
  {
   "cell_type": "code",
   "execution_count": 37,
   "metadata": {},
   "outputs": [
    {
     "data": {
      "text/plain": [
       "(0.6408071219639586, 0.6851082789592546)"
      ]
     },
     "execution_count": 37,
     "metadata": {},
     "output_type": "execute_result"
    }
   ],
   "source": [
    "ridge_pipe.score(X_train,y_train), ridge_pipe.score(X_test,y_test)"
   ]
  },
  {
   "cell_type": "markdown",
   "metadata": {},
   "source": [
    "### RMSE of predictions"
   ]
  },
  {
   "cell_type": "code",
   "execution_count": 38,
   "metadata": {},
   "outputs": [
    {
     "data": {
      "text/plain": [
       "82029518.00686508"
      ]
     },
     "execution_count": 38,
     "metadata": {},
     "output_type": "execute_result"
    }
   ],
   "source": [
    "np.sqrt(mean_squared_error(y_test1, lr.predict(X_test1)))"
   ]
  },
  {
   "cell_type": "code",
   "execution_count": 39,
   "metadata": {},
   "outputs": [
    {
     "data": {
      "text/plain": [
       "82357949.60260685"
      ]
     },
     "execution_count": 39,
     "metadata": {},
     "output_type": "execute_result"
    }
   ],
   "source": [
    "np.sqrt(mean_squared_error(y_test, ridge_pipe.predict(X_test)))"
   ]
  },
  {
   "cell_type": "code",
   "execution_count": 40,
   "metadata": {},
   "outputs": [
    {
     "data": {
      "text/plain": [
       "82648128.55154993"
      ]
     },
     "execution_count": 40,
     "metadata": {},
     "output_type": "execute_result"
    }
   ],
   "source": [
    "np.sqrt(mean_squared_error(y_test, pipe.predict(X_test)))"
   ]
  },
  {
   "cell_type": "code",
   "execution_count": 41,
   "metadata": {},
   "outputs": [
    {
     "data": {
      "text/plain": [
       "99800537.7059218"
      ]
     },
     "execution_count": 41,
     "metadata": {},
     "output_type": "execute_result"
    }
   ],
   "source": [
    "np.sqrt(mean_squared_error(y_test, gs.predict(X_test)))"
   ]
  },
  {
   "cell_type": "markdown",
   "metadata": {},
   "source": [
    "## Conclusion"
   ]
  },
  {
   "cell_type": "markdown",
   "metadata": {},
   "source": [
    "After working with a very difficult dataset, that had strings of lists of dictionaries, original extraction of usable data from those columns posed very daunting. Spent the first few hours figuring out solutions to that issue. After getting everything unpacked there were just too many columns and variables. In the end, after running 3 models there is a lot of noise within the dataset and a lot of outliers that need to be dealt with so there weren't any good performing models and they were all overfit some not even coming close to outperforming the base model."
   ]
  },
  {
   "cell_type": "code",
   "execution_count": null,
   "metadata": {},
   "outputs": [],
   "source": []
  }
 ],
 "metadata": {
  "kernelspec": {
   "display_name": "Python 3",
   "language": "python",
   "name": "python3"
  },
  "language_info": {
   "codemirror_mode": {
    "name": "ipython",
    "version": 3
   },
   "file_extension": ".py",
   "mimetype": "text/x-python",
   "name": "python",
   "nbconvert_exporter": "python",
   "pygments_lexer": "ipython3",
   "version": "3.8.5"
  }
 },
 "nbformat": 4,
 "nbformat_minor": 4
}
